{
 "cells": [
  {
   "cell_type": "code",
   "execution_count": 37,
   "id": "8b0a7c54",
   "metadata": {},
   "outputs": [
    {
     "name": "stdout",
     "output_type": "stream",
     "text": [
      "(-1, 1, 7)\n"
     ]
    }
   ],
   "source": [
    "import math\n",
    "\n",
    "a = -127\n",
    "b = 18\n",
    "\n",
    "def ext_gsd(a, b):\n",
    "    if a != 0:\n",
    "        gsd, x, y = ext_gsd(b % a, a)\n",
    "    else:\n",
    "        return (b, 0, 1)\n",
    "    return (gsd, y - (b // a) * x, x)\n",
    "\n",
    "print (ext_gsd(a, b))"
   ]
  }
 ],
 "metadata": {
  "kernelspec": {
   "display_name": "Python 3 (ipykernel)",
   "language": "python",
   "name": "python3"
  },
  "language_info": {
   "codemirror_mode": {
    "name": "ipython",
    "version": 3
   },
   "file_extension": ".py",
   "mimetype": "text/x-python",
   "name": "python",
   "nbconvert_exporter": "python",
   "pygments_lexer": "ipython3",
   "version": "3.9.6"
  }
 },
 "nbformat": 4,
 "nbformat_minor": 5
}
