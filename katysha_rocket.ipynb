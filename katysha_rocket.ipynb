{
 "cells": [
  {
   "cell_type": "code",
   "execution_count": 1,
   "id": "6698e657",
   "metadata": {},
   "outputs": [],
   "source": [
    "import math \n",
    "\n",
    "MODEL_G = 9.81\n",
    "MODEL_DT = 0.001\n",
    "\n",
    "class Body:\n",
    "    def __init__(self, x, y, vx, vy):\n",
    "        \"\"\"\n",
    "        Создать тело.\n",
    "        \n",
    "        Пареметры:\n",
    "        ----------\n",
    "        x: float\n",
    "            горизонтальная координата\n",
    "        y: float\n",
    "            вертикальная координата\n",
    "        vx: float\n",
    "            горизонтальная скорость\n",
    "        vy: float\n",
    "            вертикальная скорость\n",
    "        \"\"\"\n",
    "\n",
    "        self.x = x\n",
    "        self.y = y\n",
    "        self.vx = vx\n",
    "        self.vy = vy\n",
    "        \n",
    "        self.trajectory_x = []\n",
    "        self.trajectory_y = []\n",
    "        \n",
    "\n",
    "    def advance(self):\n",
    "        \"\"\"\n",
    "        Выполнить шаг мат. модели применительно к телу, предварительно записав его координаты\n",
    "        \"\"\"\n",
    "        self.trajectory_x.append(self.x)\n",
    "        self.trajectory_y.append(self.y)\n",
    "        \n",
    "        self.x += self.vx * MODEL_DT\n",
    "        self.y += self.vy * MODEL_DT\n",
    "        self.vy -= MODEL_G * MODEL_DT"
   ]
  },
  {
   "cell_type": "code",
   "execution_count": 14,
   "id": "4f53f986",
   "metadata": {},
   "outputs": [],
   "source": [
    "class Rocket(Body):\n",
    "    def __init__(self, x, y, vx, vy):\n",
    "        \"\"\"\n",
    "        Создать ракету.\n",
    "        \n",
    "        Пареметры:\n",
    "        ----------\n",
    "        x: float\n",
    "            горизонтальная координата\n",
    "        y: float\n",
    "            вертикальная координата\n",
    "        \"\"\"\n",
    "        super().__init__(x, y, 10, 10) # Вызовем конструктор предка — тела, т.к. он для ракеты актуален\n",
    "        self.m_gas = 5.0\n",
    "        self.m_rocket = 250.0\n",
    "        self.dm_gas = 0.01\n",
    "        self.u_gas = 10.0\n",
    "      \n",
    "\n",
    "    def advance(self):\n",
    "        super().advance() # вызовем метод предка — тела, т.к. и он для ракеты актуален.\n",
    "        if self.m_rocket >= 0:\n",
    "            self.y += self.vy * MODEL_DT \n",
    "            self.x += self.vx * MODEL_DT\n",
    "            self.vy += (self.u_gas / MODEL_DT * self.dm_gas / self.m_rocket * self.vy / (self.vx * self.vx + self.vy * self.vy)) - (MODEL_G * MODEL_DT)\n",
    "            self.vx += self.u_gas / MODEL_DT * self.dm_gas / self.m_rocket * self.vx / (self.vx * self.vx + self.vy * self.vy) \n",
    "            self.m_rocket -= self.dm_gas"
   ]
  },
  {
   "cell_type": "code",
   "execution_count": 15,
   "id": "082d4dc9",
   "metadata": {},
   "outputs": [],
   "source": [
    "import numpy as np\n",
    "\n",
    "b = Body(0, 0, 9, 9)\n",
    "r = Rocket(0, 0, 9, 9)\n",
    "\n",
    "bodies = [b, r]\n",
    "# Дальше мы уже не будем думать, кто тут ёжик, кто ракета, а кто котлета —\n",
    "# благодаря возможностям ООП будем просто работать со списком тел\n",
    "\n",
    "for t in np.arange(0, 2, MODEL_DT): # для всех временных отрезков\n",
    "    for b in bodies: # для всех тел\n",
    "        b.advance() # выполним шаг"
   ]
  },
  {
   "cell_type": "code",
   "execution_count": 16,
   "id": "49092441",
   "metadata": {
    "scrolled": false
   },
   "outputs": [
    {
     "data": {
      "image/png": "[encoded data removed]",
      "text/plain": [
       "<Figure size 432x288 with 1 Axes>"
      ]
     },
     "metadata": {
      "needs_background": "light"
     },
     "output_type": "display_data"
    }
   ],
   "source": [
    "%matplotlib inline\n",
    "from matplotlib import pyplot as pp\n",
    "\n",
    "for b in bodies: # для всех тел\n",
    "    pp.plot(b.trajectory_x, b.trajectory_y) # нарисуем их траектории"
   ]
  },
  {
   "cell_type": "code",
   "execution_count": null,
   "id": "3707f632",
   "metadata": {},
   "outputs": [],
   "source": []
  }
 ],
 "metadata": {
  "kernelspec": {
   "display_name": "Python 3 (ipykernel)",
   "language": "python",
   "name": "python3"
  },
  "language_info": {
   "codemirror_mode": {
    "name": "ipython",
    "version": 3
   },
   "file_extension": ".py",
   "mimetype": "text/x-python",
   "name": "python",
   "nbconvert_exporter": "python",
   "pygments_lexer": "ipython3",
   "version": "3.9.6"
  }
 },
 "nbformat": 4,
 "nbformat_minor": 5
}
