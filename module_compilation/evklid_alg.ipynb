{
 "cells": [
  {
   "cell_type": "code",
   "execution_count": null,
   "id": "27dd5ad9",
   "metadata": {},
   "outputs": [],
   "source": [
    "import math\n",
    "\n",
    "a, b = (int(i) for i in input(\"Введите два числа через пробел: \").split())\n",
    "def gspd(a, b):\n",
    "    while a != 0 and b != 0:\n",
    "        if a >= b:\n",
    "            a %= b\n",
    "        else:\n",
    "            b %= a\n",
    "    return a or b\n",
    "\n",
    "print (gspd(a, b))"
   ]
  }
 ],
 "metadata": {
  "kernelspec": {
   "display_name": "Python 3 (ipykernel)",
   "language": "python",
   "name": "python3"
  },
  "language_info": {
   "codemirror_mode": {
    "name": "ipython",
    "version": 3
   },
   "file_extension": ".py",
   "mimetype": "text/x-python",
   "name": "python",
   "nbconvert_exporter": "python",
   "pygments_lexer": "ipython3",
   "version": "3.10.4"
  }
 },
 "nbformat": 4,
 "nbformat_minor": 5
}
